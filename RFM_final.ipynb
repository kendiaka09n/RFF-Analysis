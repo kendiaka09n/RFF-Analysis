{
 "cells": [
  {
   "cell_type": "markdown",
   "metadata": {
    "id": "Ty-wkI_ttHlc"
   },
   "source": [
    "# Data Science & Machine Learning\n",
    "Prof. Diógenes Justo\n",
    "\n",
    "Grupo:\n"
   ]
  },
  {
   "cell_type": "markdown",
   "metadata": {
    "id": "atATqJ1rxITt"
   },
   "source": [
    "# **Atividade: Análise de RFM**\n",
    "## *Eighty percent of our business comes from 20% of our customers. It costs 10 times less to sell to an existing customer than to find a new customer*\n",
    "Historicamente, muitos negócios foram criados/desenvolvidos, entretanto, apenas alguns prosperaram por um grande período de tempo. Para estes negócios que prosperaram, podemos enumerar alguns motivos que os levaram a tal posição na história. \n",
    "\n",
    "\n",
    "1.   Produto/Serviço Inovador\n",
    "2.   Acessibilidade em masse de produtos/serviços que antes eram caros/complexos de produzir\n",
    "3.   Produto/Serviço Diferenciados/Únicos\n",
    "4.   Status\n",
    "5.   Fidelização de Clientes\n",
    ".\n",
    ".\n",
    ".\n",
    "\n",
    "Nesta atividade iremos fazer uma análise mais profundamente a ação de **Fidelização de Clientes**, estratégia utilizada extensivamente pelas áreas de marketing das empresas para direcionar campanhas/promoções para analisar o perfil de seus consumidores e direcionar corretamente campanhas que façam sentido a cada um dos perfis observados.  Utilizaremos um dataset para demonstrar a utilização da **técnica de RFM** (*Recency, Frequency e Monetary value*) para segmentação de perfil de clientes. \n",
    "\n"
   ]
  },
  {
   "cell_type": "markdown",
   "metadata": {
    "id": "oXwgn3sLFZpi"
   },
   "source": [
    "# 0.0 - Bibliotecas"
   ]
  },
  {
   "cell_type": "code",
   "execution_count": 2,
   "metadata": {
    "id": "YijaRWDC9EFJ"
   },
   "outputs": [],
   "source": [
    "import datetime\n",
    "\n",
    "import pandas               as pd\n",
    "import seaborn              as sns\n",
    "import matplotlib.pyplot    as plt\n",
    "\n",
    "from sklearn.cluster        import KMeans\n",
    "from sklearn.preprocessing  import StandardScaler\n",
    "\n"
   ]
  },
  {
   "cell_type": "markdown",
   "metadata": {
    "id": "rSLM1Sw0Fkxh"
   },
   "source": [
    "## 0.1 - Carregando Dados e Renomeando Colunas"
   ]
  },
  {
   "cell_type": "code",
   "execution_count": 3,
   "metadata": {
    "colab": {
     "base_uri": "https://localhost:8080/",
     "height": 206
    },
    "id": "60eL6IbUFh4u",
    "outputId": "6cef4f79-edd0-4818-df9b-3c170d9def9c"
   },
   "outputs": [
    {
     "data": {
      "text/html": [
       "<div>\n",
       "<style scoped>\n",
       "    .dataframe tbody tr th:only-of-type {\n",
       "        vertical-align: middle;\n",
       "    }\n",
       "\n",
       "    .dataframe tbody tr th {\n",
       "        vertical-align: top;\n",
       "    }\n",
       "\n",
       "    .dataframe thead th {\n",
       "        text-align: right;\n",
       "    }\n",
       "</style>\n",
       "<table border=\"1\" class=\"dataframe\">\n",
       "  <thead>\n",
       "    <tr style=\"text-align: right;\">\n",
       "      <th></th>\n",
       "      <th>id</th>\n",
       "      <th>customer_id</th>\n",
       "      <th>store_id</th>\n",
       "      <th>product_id</th>\n",
       "      <th>amount</th>\n",
       "      <th>date</th>\n",
       "    </tr>\n",
       "  </thead>\n",
       "  <tbody>\n",
       "    <tr>\n",
       "      <th>0</th>\n",
       "      <td>1</td>\n",
       "      <td>95595791691</td>\n",
       "      <td>409</td>\n",
       "      <td>196282</td>\n",
       "      <td>8.98</td>\n",
       "      <td>2020-01-01 00:14:41 UTC</td>\n",
       "    </tr>\n",
       "    <tr>\n",
       "      <th>1</th>\n",
       "      <td>2</td>\n",
       "      <td>8814812624</td>\n",
       "      <td>62</td>\n",
       "      <td>136956</td>\n",
       "      <td>0.00</td>\n",
       "      <td>2020-01-01 00:10:16 UTC</td>\n",
       "    </tr>\n",
       "    <tr>\n",
       "      <th>2</th>\n",
       "      <td>3</td>\n",
       "      <td>38552620634</td>\n",
       "      <td>408</td>\n",
       "      <td>329</td>\n",
       "      <td>9.98</td>\n",
       "      <td>2020-01-01 00:08:29 UTC</td>\n",
       "    </tr>\n",
       "    <tr>\n",
       "      <th>3</th>\n",
       "      <td>4</td>\n",
       "      <td>11561694614</td>\n",
       "      <td>405</td>\n",
       "      <td>104089</td>\n",
       "      <td>7.99</td>\n",
       "      <td>2020-01-01 00:06:10 UTC</td>\n",
       "    </tr>\n",
       "    <tr>\n",
       "      <th>4</th>\n",
       "      <td>5</td>\n",
       "      <td>1216506698</td>\n",
       "      <td>62</td>\n",
       "      <td>196180</td>\n",
       "      <td>11.96</td>\n",
       "      <td>2020-01-01 00:05:30 UTC</td>\n",
       "    </tr>\n",
       "  </tbody>\n",
       "</table>\n",
       "</div>"
      ],
      "text/plain": [
       "   id  customer_id  store_id  product_id  amount                     date\n",
       "0   1  95595791691       409      196282    8.98  2020-01-01 00:14:41 UTC\n",
       "1   2   8814812624        62      136956    0.00  2020-01-01 00:10:16 UTC\n",
       "2   3  38552620634       408         329    9.98  2020-01-01 00:08:29 UTC\n",
       "3   4  11561694614       405      104089    7.99  2020-01-01 00:06:10 UTC\n",
       "4   5   1216506698        62      196180   11.96  2020-01-01 00:05:30 UTC"
      ]
     },
     "execution_count": 3,
     "metadata": {},
     "output_type": "execute_result"
    }
   ],
   "source": [
    "#Lendo carquivo csv e separando colunas através das vírgulas. \n",
    "fonte = \"https://github.com/diogenesjusto/FIAP/blob/master/Gradua%C3%A7%C3%A3o/2021/S2/20210914/db_Exercicio_RFM.csv?raw=true\"\n",
    "df_raw = pd.read_csv(fonte, sep = ',')\n",
    "\n",
    "#renomeando colunas para snakecase\n",
    "ncoluna = ['id','customer_id', 'store_id', 'product_id', 'amount','date']\n",
    "df_raw.columns = ncoluna\n",
    "\n",
    "#criado copia de dataset original\n",
    "df = df_raw.copy()\n",
    "df.head()\n"
   ]
  },
  {
   "cell_type": "markdown",
   "metadata": {
    "id": "_zSN19Cesz_x"
   },
   "source": [
    "# 1.0 - Descrição dos Dados"
   ]
  },
  {
   "cell_type": "code",
   "execution_count": 4,
   "metadata": {
    "colab": {
     "base_uri": "https://localhost:8080/"
    },
    "id": "GHUG5mpCGYqF",
    "outputId": "73be6ab2-74b8-4c09-a2b1-c91e00ba0a72"
   },
   "outputs": [
    {
     "name": "stdout",
     "output_type": "stream",
     "text": [
      "id             0\n",
      "customer_id    0\n",
      "store_id       0\n",
      "product_id     0\n",
      "amount         0\n",
      "date           0\n",
      "dtype: int64\n",
      "####################\n",
      "(92294, 6)\n",
      "####################\n",
      "                 id   customer_id      store_id     product_id        amount\n",
      "count  92294.000000  9.229400e+04  92294.000000   92294.000000  92294.000000\n",
      "mean   46147.500000  4.507167e+13    308.693404  161092.190023     14.412238\n",
      "std    26643.127209  5.307587e+14    156.864919   49956.383433     24.768554\n",
      "min        1.000000  1.910000e+02     56.000000     307.000000      0.000000\n",
      "25%    23074.250000  4.843799e+09     72.000000  138236.000000      4.590000\n",
      "50%    46147.500000  1.015791e+10    407.000000  188845.000000      8.900000\n",
      "75%    69220.750000  5.083641e+10    410.000000  196055.000000     15.900000\n",
      "max    92294.000000  6.298977e+15    417.000000  198458.000000   1548.030000\n",
      "####################\n",
      "<class 'pandas.core.frame.DataFrame'>\n",
      "RangeIndex: 92294 entries, 0 to 92293\n",
      "Data columns (total 6 columns):\n",
      " #   Column       Non-Null Count  Dtype  \n",
      "---  ------       --------------  -----  \n",
      " 0   id           92294 non-null  int64  \n",
      " 1   customer_id  92294 non-null  int64  \n",
      " 2   store_id     92294 non-null  int64  \n",
      " 3   product_id   92294 non-null  int64  \n",
      " 4   amount       92294 non-null  float64\n",
      " 5   date         92294 non-null  object \n",
      "dtypes: float64(1), int64(4), object(1)\n",
      "memory usage: 4.2+ MB\n",
      "None\n",
      "####################\n"
     ]
    },
    {
     "data": {
      "text/plain": [
       "0"
      ]
     },
     "execution_count": 4,
     "metadata": {},
     "output_type": "execute_result"
    }
   ],
   "source": [
    "# checar valores nulos\n",
    "print(df.isnull().sum())\n",
    "print('####################')\n",
    "# checar dimensões\n",
    "print(df.shape)\n",
    "print('####################')\n",
    "# checar distribuição dos dados numéricos contínuos\n",
    "print(df.describe())\n",
    "print('####################')\n",
    "# checar data types\n",
    "print(df.info())\n",
    "print('####################')\n",
    "# checar duplicados\n",
    "df.duplicated().sum()"
   ]
  },
  {
   "cell_type": "markdown",
   "metadata": {
    "id": "altln_gNkfBy"
   },
   "source": [
    "## 1.1 - Modificação do Tipo do Dado"
   ]
  },
  {
   "cell_type": "code",
   "execution_count": 5,
   "metadata": {
    "id": "P9sX1GF1j8cf"
   },
   "outputs": [],
   "source": [
    "## Modificando o data type IDs de número para texto\n",
    "df['product_id'] = df['product_id'].astype(str)\n",
    "df['store_id'] = df['store_id'].astype(str)\n",
    "df['customer_id'] = df['customer_id'].astype(str)\n",
    "df['date'] = pd.to_datetime(df['date'])"
   ]
  },
  {
   "cell_type": "code",
   "execution_count": 6,
   "metadata": {
    "colab": {
     "base_uri": "https://localhost:8080/"
    },
    "id": "6I-y5SLX5N_R",
    "outputId": "4683d432-67c0-439a-b1f5-a276940fa80d"
   },
   "outputs": [
    {
     "name": "stdout",
     "output_type": "stream",
     "text": [
      "Neste dataset há 32 lojas únicas e 629 produtos únicos\n"
     ]
    }
   ],
   "source": [
    "#Verificando quantidade de lojas e produtos únicos\n",
    "qtd_lojas = len(df.store_id.unique())\n",
    "qtd_produtos = len(df.product_id.unique())\n",
    "print('Neste dataset há {} lojas únicas e {} produtos únicos'.format(qtd_lojas,qtd_produtos))"
   ]
  },
  {
   "cell_type": "code",
   "execution_count": 7,
   "metadata": {
    "colab": {
     "base_uri": "https://localhost:8080/"
    },
    "id": "BsQyrC6NIS2I",
    "outputId": "a9d6a6f9-ddde-4f29-b141-588f3b4889bd"
   },
   "outputs": [
    {
     "name": "stdout",
     "output_type": "stream",
     "text": [
      "Compras realizadas entre 2019-11-08 10:15:54+00:00 e 2020-01-01 00:14:41+00:00. São 53 dias de dados.\n"
     ]
    }
   ],
   "source": [
    "print('Compras realizadas entre {} e {}. São {} dias de dados.'.format(df['date'].min(),\n",
    "                                    df['date'].max(), \n",
    "                                    (df['date'].max()-df['date'].min()).days\n",
    "                                    )\n",
    ")"
   ]
  },
  {
   "cell_type": "markdown",
   "metadata": {
    "id": "xLzOkoAj4x1C"
   },
   "source": [
    "## 1.2 - Recencia\n",
    "Neste KPI iremos avaliar o quão recente (em meses) o usuário realizou uma compra "
   ]
  },
  {
   "cell_type": "code",
   "execution_count": 8,
   "metadata": {
    "colab": {
     "base_uri": "https://localhost:8080/",
     "height": 206
    },
    "id": "Adc4QHCc3QaG",
    "outputId": "1f8892c7-631a-4830-f4c1-35cca83954fd"
   },
   "outputs": [
    {
     "data": {
      "text/html": [
       "<div>\n",
       "<style scoped>\n",
       "    .dataframe tbody tr th:only-of-type {\n",
       "        vertical-align: middle;\n",
       "    }\n",
       "\n",
       "    .dataframe tbody tr th {\n",
       "        vertical-align: top;\n",
       "    }\n",
       "\n",
       "    .dataframe thead th {\n",
       "        text-align: right;\n",
       "    }\n",
       "</style>\n",
       "<table border=\"1\" class=\"dataframe\">\n",
       "  <thead>\n",
       "    <tr style=\"text-align: right;\">\n",
       "      <th></th>\n",
       "      <th>customer_id</th>\n",
       "      <th>date</th>\n",
       "    </tr>\n",
       "  </thead>\n",
       "  <tbody>\n",
       "    <tr>\n",
       "      <th>0</th>\n",
       "      <td>10000432660</td>\n",
       "      <td>2019-12-16 13:17:38+00:00</td>\n",
       "    </tr>\n",
       "    <tr>\n",
       "      <th>1</th>\n",
       "      <td>10000825638</td>\n",
       "      <td>2019-12-31 16:17:51+00:00</td>\n",
       "    </tr>\n",
       "    <tr>\n",
       "      <th>2</th>\n",
       "      <td>10000966614</td>\n",
       "      <td>2019-11-29 17:27:48+00:00</td>\n",
       "    </tr>\n",
       "    <tr>\n",
       "      <th>3</th>\n",
       "      <td>10001156667</td>\n",
       "      <td>2019-12-31 19:17:24+00:00</td>\n",
       "    </tr>\n",
       "    <tr>\n",
       "      <th>4</th>\n",
       "      <td>10001329600</td>\n",
       "      <td>2019-11-24 17:49:22+00:00</td>\n",
       "    </tr>\n",
       "  </tbody>\n",
       "</table>\n",
       "</div>"
      ],
      "text/plain": [
       "   customer_id                      date\n",
       "0  10000432660 2019-12-16 13:17:38+00:00\n",
       "1  10000825638 2019-12-31 16:17:51+00:00\n",
       "2  10000966614 2019-11-29 17:27:48+00:00\n",
       "3  10001156667 2019-12-31 19:17:24+00:00\n",
       "4  10001329600 2019-11-24 17:49:22+00:00"
      ]
     },
     "execution_count": 8,
     "metadata": {},
     "output_type": "execute_result"
    }
   ],
   "source": [
    "# recency (r) df - Definimos que será a diferença de meses da data mais recente \n",
    "# que o consumidor realizou uma compra de qualquer valor com a última data disponível no dataset.\n",
    "df_r = df[['date','customer_id']].groupby('customer_id')['date'].agg('max').reset_index()\n",
    "df_r.head()"
   ]
  },
  {
   "cell_type": "code",
   "execution_count": 9,
   "metadata": {
    "colab": {
     "base_uri": "https://localhost:8080/",
     "height": 206
    },
    "id": "SE9O6E-JokLv",
    "outputId": "bc6bf9c1-2c22-44ec-e239-8b6bd51a57e6"
   },
   "outputs": [
    {
     "data": {
      "text/html": [
       "<div>\n",
       "<style scoped>\n",
       "    .dataframe tbody tr th:only-of-type {\n",
       "        vertical-align: middle;\n",
       "    }\n",
       "\n",
       "    .dataframe tbody tr th {\n",
       "        vertical-align: top;\n",
       "    }\n",
       "\n",
       "    .dataframe thead th {\n",
       "        text-align: right;\n",
       "    }\n",
       "</style>\n",
       "<table border=\"1\" class=\"dataframe\">\n",
       "  <thead>\n",
       "    <tr style=\"text-align: right;\">\n",
       "      <th></th>\n",
       "      <th>customer_id</th>\n",
       "      <th>Recency</th>\n",
       "    </tr>\n",
       "  </thead>\n",
       "  <tbody>\n",
       "    <tr>\n",
       "      <th>0</th>\n",
       "      <td>10000432660</td>\n",
       "      <td>1</td>\n",
       "    </tr>\n",
       "    <tr>\n",
       "      <th>1</th>\n",
       "      <td>10000825638</td>\n",
       "      <td>1</td>\n",
       "    </tr>\n",
       "    <tr>\n",
       "      <th>2</th>\n",
       "      <td>10000966614</td>\n",
       "      <td>2</td>\n",
       "    </tr>\n",
       "    <tr>\n",
       "      <th>3</th>\n",
       "      <td>10001156667</td>\n",
       "      <td>1</td>\n",
       "    </tr>\n",
       "    <tr>\n",
       "      <th>4</th>\n",
       "      <td>10001329600</td>\n",
       "      <td>2</td>\n",
       "    </tr>\n",
       "  </tbody>\n",
       "</table>\n",
       "</div>"
      ],
      "text/plain": [
       "   customer_id  Recency\n",
       "0  10000432660        1\n",
       "1  10000825638        1\n",
       "2  10000966614        2\n",
       "3  10001156667        1\n",
       "4  10001329600        2"
      ]
     },
     "execution_count": 9,
     "metadata": {},
     "output_type": "execute_result"
    }
   ],
   "source": [
    "# Data mais recente disponível no dataset\n",
    "cur_time = df['date'].max()\n",
    "# Funcao para diferença de meses\n",
    "def month_diff(cur_time, ultima_data): \n",
    "    return 12 * (cur_time.year - ultima_data.year) + (cur_time.month - ultima_data.month)\n",
    "# Calculo de Recência - Quantos meses da última compra\n",
    "df_r['Recency'] = df_r['date'].apply(lambda x: month_diff(cur_time, x))\n",
    "\n",
    "#Como utilizamos apenas um dataset de 2 meses, não iremos limitar temporalmente os dados.  Retiramos a coluna de data nesta etapa.\n",
    "df_r = df_r.drop('date', axis = 1)\n",
    "df_r.head()"
   ]
  },
  {
   "cell_type": "markdown",
   "metadata": {
    "id": "wcmqlYuo5Szo"
   },
   "source": [
    "## 1.3 - Frequencia e Monetario\n",
    "O KPI de frequencia indica a quantidade de transações concluída com sucesso pelo consumdor e o Monetário é a média gasta pelo consumidor durante o período estudado(2 meses)."
   ]
  },
  {
   "cell_type": "code",
   "execution_count": 10,
   "metadata": {
    "colab": {
     "base_uri": "https://localhost:8080/",
     "height": 206
    },
    "id": "oHGaToNPpAzy",
    "outputId": "1f47859d-1dd9-4ce8-e91f-855923c67fab"
   },
   "outputs": [
    {
     "data": {
      "text/html": [
       "<div>\n",
       "<style scoped>\n",
       "    .dataframe tbody tr th:only-of-type {\n",
       "        vertical-align: middle;\n",
       "    }\n",
       "\n",
       "    .dataframe tbody tr th {\n",
       "        vertical-align: top;\n",
       "    }\n",
       "\n",
       "    .dataframe thead th {\n",
       "        text-align: right;\n",
       "    }\n",
       "</style>\n",
       "<table border=\"1\" class=\"dataframe\">\n",
       "  <thead>\n",
       "    <tr style=\"text-align: right;\">\n",
       "      <th></th>\n",
       "      <th>customer_id</th>\n",
       "      <th>Frequency</th>\n",
       "      <th>Monetary</th>\n",
       "    </tr>\n",
       "  </thead>\n",
       "  <tbody>\n",
       "    <tr>\n",
       "      <th>0</th>\n",
       "      <td>10000432660</td>\n",
       "      <td>1</td>\n",
       "      <td>3.99</td>\n",
       "    </tr>\n",
       "    <tr>\n",
       "      <th>1</th>\n",
       "      <td>10000825638</td>\n",
       "      <td>1</td>\n",
       "      <td>5.98</td>\n",
       "    </tr>\n",
       "    <tr>\n",
       "      <th>2</th>\n",
       "      <td>10000966614</td>\n",
       "      <td>1</td>\n",
       "      <td>39.90</td>\n",
       "    </tr>\n",
       "    <tr>\n",
       "      <th>3</th>\n",
       "      <td>10001156667</td>\n",
       "      <td>9</td>\n",
       "      <td>2.10</td>\n",
       "    </tr>\n",
       "    <tr>\n",
       "      <th>4</th>\n",
       "      <td>10001329600</td>\n",
       "      <td>1</td>\n",
       "      <td>5.98</td>\n",
       "    </tr>\n",
       "  </tbody>\n",
       "</table>\n",
       "</div>"
      ],
      "text/plain": [
       "   customer_id  Frequency  Monetary\n",
       "0  10000432660          1      3.99\n",
       "1  10000825638          1      5.98\n",
       "2  10000966614          1     39.90\n",
       "3  10001156667          9      2.10\n",
       "4  10001329600          1      5.98"
      ]
     },
     "execution_count": 10,
     "metadata": {},
     "output_type": "execute_result"
    }
   ],
   "source": [
    "# Frequency & Monetary(fm) \n",
    "data_fm  = df[['id','customer_id','amount']]\n",
    "\n",
    "# Agregando valores de média de venda e quantidade de compras realizadas por consumidor \n",
    "data_fm  = data_fm .groupby('customer_id')[['id','amount']].agg({'id':'nunique', 'amount':'mean'}).reset_index()\n",
    "\n",
    "data_fm  = data_fm .rename(columns = {'id':'Frequency', 'amount':'Monetary'})\n",
    "\n",
    "# Arredondando valores decimais\n",
    "data_fm .Monetary = data_fm .Monetary.round(2)\n",
    "data_fm .head()"
   ]
  },
  {
   "cell_type": "code",
   "execution_count": 11,
   "metadata": {
    "colab": {
     "base_uri": "https://localhost:8080/",
     "height": 206
    },
    "id": "TxMI4S7H5Tha",
    "outputId": "060ffb6d-80e4-4093-99f9-838d95267330"
   },
   "outputs": [
    {
     "data": {
      "text/html": [
       "<div>\n",
       "<style scoped>\n",
       "    .dataframe tbody tr th:only-of-type {\n",
       "        vertical-align: middle;\n",
       "    }\n",
       "\n",
       "    .dataframe tbody tr th {\n",
       "        vertical-align: top;\n",
       "    }\n",
       "\n",
       "    .dataframe thead th {\n",
       "        text-align: right;\n",
       "    }\n",
       "</style>\n",
       "<table border=\"1\" class=\"dataframe\">\n",
       "  <thead>\n",
       "    <tr style=\"text-align: right;\">\n",
       "      <th></th>\n",
       "      <th>customer_id</th>\n",
       "      <th>Recency</th>\n",
       "      <th>Frequency</th>\n",
       "      <th>Monetary</th>\n",
       "    </tr>\n",
       "  </thead>\n",
       "  <tbody>\n",
       "    <tr>\n",
       "      <th>0</th>\n",
       "      <td>10000432660</td>\n",
       "      <td>1</td>\n",
       "      <td>1</td>\n",
       "      <td>3.99</td>\n",
       "    </tr>\n",
       "    <tr>\n",
       "      <th>1</th>\n",
       "      <td>10000825638</td>\n",
       "      <td>1</td>\n",
       "      <td>1</td>\n",
       "      <td>5.98</td>\n",
       "    </tr>\n",
       "    <tr>\n",
       "      <th>2</th>\n",
       "      <td>10000966614</td>\n",
       "      <td>2</td>\n",
       "      <td>1</td>\n",
       "      <td>39.90</td>\n",
       "    </tr>\n",
       "    <tr>\n",
       "      <th>3</th>\n",
       "      <td>10001156667</td>\n",
       "      <td>1</td>\n",
       "      <td>9</td>\n",
       "      <td>2.10</td>\n",
       "    </tr>\n",
       "    <tr>\n",
       "      <th>4</th>\n",
       "      <td>10001329600</td>\n",
       "      <td>2</td>\n",
       "      <td>1</td>\n",
       "      <td>5.98</td>\n",
       "    </tr>\n",
       "  </tbody>\n",
       "</table>\n",
       "</div>"
      ],
      "text/plain": [
       "   customer_id  Recency  Frequency  Monetary\n",
       "0  10000432660        1          1      3.99\n",
       "1  10000825638        1          1      5.98\n",
       "2  10000966614        2          1     39.90\n",
       "3  10001156667        1          9      2.10\n",
       "4  10001329600        2          1      5.98"
      ]
     },
     "execution_count": 11,
     "metadata": {},
     "output_type": "execute_result"
    }
   ],
   "source": [
    "# Criando uma tabela única com os valores finais de Recencia, Frequencia e Monetario, unindo as tabelas pelo id do consumidor. Caso haja um valor nulo, ele será preenchido com Zero.\n",
    "df_rfm = df_r.merge(data_fm , on = 'customer_id', how = 'left')\n",
    "df_rfm = df_rfm.fillna(0)\n",
    "df_rfm.head()"
   ]
  },
  {
   "cell_type": "code",
   "execution_count": 28,
   "metadata": {
    "colab": {
     "base_uri": "https://localhost:8080/",
     "height": 327
    },
    "id": "5FwyVQn6EBMb",
    "outputId": "214ebd52-0e5b-4bed-94f4-a76a040f26e8"
   },
   "outputs": [
    {
     "data": {
      "image/png": "[encoded data removed]",
      "text/plain": [
       "<Figure size 1440x360 with 3 Axes>"
      ]
     },
     "metadata": {
      "needs_background": "light"
     },
     "output_type": "display_data"
    }
   ],
   "source": [
    "#Criando histograma dos kpis criados. \n",
    "#histograma de Recencia\n",
    "plt.figure(figsize=(20,5))\n",
    "plt.subplot(1,3,1)\n",
    "sns.histplot(df_rfm,  x='Recency', bins = 3)\n",
    "\n",
    "#histograma de Frequencia\n",
    "plt.subplot(1,3,2)\n",
    "sns.histplot(df_rfm,  x='Frequency', bins = 60)\n",
    "\n",
    "#histograma de Monetario\n",
    "plt.subplot(1,3,3)\n",
    "sns.histplot(df_rfm,  x='Monetary', bins = 100);"
   ]
  },
  {
   "cell_type": "code",
   "execution_count": 15,
   "metadata": {
    "id": "3ckm4fLk5TPM"
   },
   "outputs": [],
   "source": [
    "# Indicando as colunas alvos\n",
    "feature_cols = ['Recency','Frequency','Monetary']\n",
    "# Copiando os dados em um dataframe para aplicar a padronização dos dados. \n",
    "standardized_data = df_rfm.copy()\n",
    "\n",
    "# Padronização utilizando standarscaler.Este método irá calcular a média e o \n",
    "# desvio padrão da coluna e irá aplicar em cada valor, deste modo teremos um dado normalizado para aplicar na próxima etapa\n",
    "scaler = StandardScaler()\n",
    "\n",
    "# Aplicando o StandardScaler na colunas alvos. \n",
    "scaler.fit(df_rfm[feature_cols])\n",
    "standardized_features = scaler.transform(df_rfm[feature_cols])\n",
    "standardized_data[feature_cols] = standardized_features"
   ]
  },
  {
   "cell_type": "code",
   "execution_count": 16,
   "metadata": {
    "id": "ZwTjyH_H5Sy6"
   },
   "outputs": [],
   "source": [
    "# fit K-means clustering on various Ks. Os centroides serão escolhidos de forma randomica para iniciar \n",
    "kmeans_kwargs = {\"init\" : \"random\", 'random_state': 75}\n",
    "sse = []\n",
    "\n",
    "# Aplicando o algoritmo em de 1 a 20 possíveis vizinhos\n",
    "for k in range(1,21):\n",
    "    kmeans = KMeans(n_clusters=k, **kmeans_kwargs)\n",
    "    kmeans.fit(standardized_data[feature_cols])\n",
    "    sse.append(kmeans.inertia_)"
   ]
  },
  {
   "cell_type": "markdown",
   "metadata": {
    "id": "YERNChoXM956"
   },
   "source": [
    "## 1.4 - Kmeans\n",
    "\n",
    "Para avaliar os resultados obtidos da aplicação do algoritmo de Kmeans, utilizaremos o Elbow plot method. \n",
    "Este método consiste na aplicação dos resultados obtidos pelos consecutivas quantidades de vizinhos que o algoritmo foi testado. \n",
    "O K vizinhos ideais para dividir os dados treinados é indicado pela valor do eixo x onde houver a menor diferença da soma do erro quadratico.\n",
    "Neste caso, consideraremos como 4 a quantidade ideal de k vizinhos. "
   ]
  },
  {
   "cell_type": "code",
   "execution_count": 17,
   "metadata": {
    "colab": {
     "base_uri": "https://localhost:8080/",
     "height": 497
    },
    "id": "gchtTvzT8J9s",
    "outputId": "855ed1b2-242a-49f8-ddae-560cb3c71f4b"
   },
   "outputs": [
    {
     "data": {
      "image/png": "[encoded data removed]",
      "text/plain": [
       "<Figure size 864x576 with 1 Axes>"
      ]
     },
     "metadata": {
      "needs_background": "light"
     },
     "output_type": "display_data"
    }
   ],
   "source": [
    "\n",
    "plt.figure(figsize = (12,8))\n",
    "plt.plot(range(1,21), sse)\n",
    "plt.xticks(range(1,21))\n",
    "plt.xlabel(\"Number of Clusters\")\n",
    "plt.ylabel(\"Sum of Squared Error\")\n",
    "plt.show()"
   ]
  },
  {
   "cell_type": "code",
   "execution_count": 18,
   "metadata": {
    "colab": {
     "base_uri": "https://localhost:8080/",
     "height": 206
    },
    "id": "qhechmcc8MV5",
    "outputId": "efb3c2a0-857e-4d4a-8a26-ff6e2444b783"
   },
   "outputs": [
    {
     "data": {
      "text/html": [
       "<div>\n",
       "<style scoped>\n",
       "    .dataframe tbody tr th:only-of-type {\n",
       "        vertical-align: middle;\n",
       "    }\n",
       "\n",
       "    .dataframe tbody tr th {\n",
       "        vertical-align: top;\n",
       "    }\n",
       "\n",
       "    .dataframe thead th {\n",
       "        text-align: right;\n",
       "    }\n",
       "</style>\n",
       "<table border=\"1\" class=\"dataframe\">\n",
       "  <thead>\n",
       "    <tr style=\"text-align: right;\">\n",
       "      <th></th>\n",
       "      <th>customer_id</th>\n",
       "      <th>Recency</th>\n",
       "      <th>Frequency</th>\n",
       "      <th>Monetary</th>\n",
       "      <th>cluster</th>\n",
       "    </tr>\n",
       "  </thead>\n",
       "  <tbody>\n",
       "    <tr>\n",
       "      <th>0</th>\n",
       "      <td>10000432660</td>\n",
       "      <td>1</td>\n",
       "      <td>1</td>\n",
       "      <td>3.99</td>\n",
       "      <td>3</td>\n",
       "    </tr>\n",
       "    <tr>\n",
       "      <th>1</th>\n",
       "      <td>10000825638</td>\n",
       "      <td>1</td>\n",
       "      <td>1</td>\n",
       "      <td>5.98</td>\n",
       "      <td>3</td>\n",
       "    </tr>\n",
       "    <tr>\n",
       "      <th>2</th>\n",
       "      <td>10000966614</td>\n",
       "      <td>2</td>\n",
       "      <td>1</td>\n",
       "      <td>39.90</td>\n",
       "      <td>2</td>\n",
       "    </tr>\n",
       "    <tr>\n",
       "      <th>3</th>\n",
       "      <td>10001156667</td>\n",
       "      <td>1</td>\n",
       "      <td>9</td>\n",
       "      <td>2.10</td>\n",
       "      <td>1</td>\n",
       "    </tr>\n",
       "    <tr>\n",
       "      <th>4</th>\n",
       "      <td>10001329600</td>\n",
       "      <td>2</td>\n",
       "      <td>1</td>\n",
       "      <td>5.98</td>\n",
       "      <td>2</td>\n",
       "    </tr>\n",
       "  </tbody>\n",
       "</table>\n",
       "</div>"
      ],
      "text/plain": [
       "   customer_id  Recency  Frequency  Monetary  cluster\n",
       "0  10000432660        1          1      3.99        3\n",
       "1  10000825638        1          1      5.98        3\n",
       "2  10000966614        2          1     39.90        2\n",
       "3  10001156667        1          9      2.10        1\n",
       "4  10001329600        2          1      5.98        2"
      ]
     },
     "execution_count": 18,
     "metadata": {},
     "output_type": "execute_result"
    }
   ],
   "source": [
    "# Aplicando o algoritmo de Kmeans com o valor de 4 cluster para segregar os clientes existentes no dataset. \n",
    "kmeans_kwargs = {\"init\" : \"random\", 'random_state': 75}\n",
    "kmeans = KMeans(n_clusters=4, **kmeans_kwargs)\n",
    "kmeans.fit(standardized_data[feature_cols])\n",
    "df_rfm['cluster'] = kmeans.labels_\n",
    "df_rfm.head()"
   ]
  },
  {
   "cell_type": "code",
   "execution_count": 19,
   "metadata": {
    "id": "r9qWfZWR3-lL"
   },
   "outputs": [],
   "source": [
    "teste_cluster = df_rfm.merge(df, how= 'inner', on = 'customer_id')\n",
    "teste_cluster['ano_mes'] = teste_cluster['date'].apply(lambda x: (x.year).astype(str) + '-' + (x.month).astype(str))\n",
    "teste_cluster['index'] = teste_cluster['ano_mes'].index"
   ]
  },
  {
   "cell_type": "code",
   "execution_count": 20,
   "metadata": {
    "colab": {
     "base_uri": "https://localhost:8080/",
     "height": 175
    },
    "id": "gDi7mBAx8b_M",
    "outputId": "3bf1b6f9-319d-4649-d2ee-363cf0719ab5"
   },
   "outputs": [
    {
     "data": {
      "text/html": [
       "<div>\n",
       "<style scoped>\n",
       "    .dataframe tbody tr th:only-of-type {\n",
       "        vertical-align: middle;\n",
       "    }\n",
       "\n",
       "    .dataframe tbody tr th {\n",
       "        vertical-align: top;\n",
       "    }\n",
       "\n",
       "    .dataframe thead th {\n",
       "        text-align: right;\n",
       "    }\n",
       "</style>\n",
       "<table border=\"1\" class=\"dataframe\">\n",
       "  <thead>\n",
       "    <tr style=\"text-align: right;\">\n",
       "      <th></th>\n",
       "      <th>cluster</th>\n",
       "      <th>Recency</th>\n",
       "      <th>Frequency</th>\n",
       "      <th>Monetary</th>\n",
       "      <th>NumBuyers</th>\n",
       "    </tr>\n",
       "  </thead>\n",
       "  <tbody>\n",
       "    <tr>\n",
       "      <th>0</th>\n",
       "      <td>0</td>\n",
       "      <td>1.331899</td>\n",
       "      <td>1.459742</td>\n",
       "      <td>95.222372</td>\n",
       "      <td>1627</td>\n",
       "    </tr>\n",
       "    <tr>\n",
       "      <th>1</th>\n",
       "      <td>1</td>\n",
       "      <td>1.007502</td>\n",
       "      <td>5.663416</td>\n",
       "      <td>13.065094</td>\n",
       "      <td>3999</td>\n",
       "    </tr>\n",
       "    <tr>\n",
       "      <th>2</th>\n",
       "      <td>2</td>\n",
       "      <td>2.000000</td>\n",
       "      <td>1.312500</td>\n",
       "      <td>11.564403</td>\n",
       "      <td>16672</td>\n",
       "    </tr>\n",
       "    <tr>\n",
       "      <th>3</th>\n",
       "      <td>3</td>\n",
       "      <td>0.999834</td>\n",
       "      <td>1.503345</td>\n",
       "      <td>11.746058</td>\n",
       "      <td>30192</td>\n",
       "    </tr>\n",
       "  </tbody>\n",
       "</table>\n",
       "</div>"
      ],
      "text/plain": [
       "   cluster   Recency  Frequency   Monetary  NumBuyers\n",
       "0        0  1.331899   1.459742  95.222372       1627\n",
       "1        1  1.007502   5.663416  13.065094       3999\n",
       "2        2  2.000000   1.312500  11.564403      16672\n",
       "3        3  0.999834   1.503345  11.746058      30192"
      ]
     },
     "execution_count": 20,
     "metadata": {},
     "output_type": "execute_result"
    }
   ],
   "source": [
    "# Agrupando os centroides por cluster\n",
    "centroid_df = df_rfm.groupby('cluster')[['Recency', 'Frequency', 'Monetary','customer_id']].agg({'Recency': 'mean', 'Frequency': 'mean', 'Monetary':'mean','customer_id':'nunique'}).reset_index()\n",
    "centroid_df = centroid_df.rename(columns = {'customer_id':'NumBuyers'})\n",
    "centroid_df"
   ]
  },
  {
   "cell_type": "markdown",
   "metadata": {
    "id": "dNkaRpbHO7ul"
   },
   "source": [
    "Com os dados observados no dataFrame **centroid_df** observamos a distribuição de cada valode de Recency, Frequency e Monetary por cada cluster. \n",
    "Uma **Frequencia** alta é um indicativo de que este grupo de consumidor é um comprador frequente da plataforma. \n",
    "Uma **Recencia** alta indica que este grupo de clientes estão sem comprar da plataforma há um tempo, dependendo da definição do negócio pode considerar como um grupo de retratores da marca/plataforma.\n",
    "Um valor **Monetário** alto indica que este grupo de consumidores fazem compras de alto valor na plataforma. \n",
    "\n",
    "Deste modo podemos categorizar os 4 clusters do seguinte modo:\n",
    "cluster 0 - 1627 clientes-> **Alta** Frequência, Recência normal e Valor Monetário normal -> ***Clientes de Alta Frequência***\n",
    "cluster 1 - 3999 clientes-> Recência, Frequência e Monetário normal -> Clientes Ocasinais \n",
    "cluster 2 - 16672 clientes-> **Alta** Recência, Frequência normal e valor Monetário normal, segundo maior grupo -> ***Clientes Retratores da Marca***\n",
    "cluster 3 - 30192 clientes-> Recência normal, Frequência normal e valor Monetário **Alto** , maior agrupamento-> ***Clientes TOP***\n",
    "\n",
    "\n",
    "\n",
    "\n",
    "\n",
    "\n"
   ]
  },
  {
   "cell_type": "code",
   "execution_count": 21,
   "metadata": {
    "colab": {
     "base_uri": "https://localhost:8080/",
     "height": 175
    },
    "id": "ZTqc2OlG-9Ed",
    "outputId": "2ade025e-584b-4775-c1a5-96b6ae1489ba"
   },
   "outputs": [
    {
     "data": {
      "text/html": [
       "<div>\n",
       "<style scoped>\n",
       "    .dataframe tbody tr th:only-of-type {\n",
       "        vertical-align: middle;\n",
       "    }\n",
       "\n",
       "    .dataframe tbody tr th {\n",
       "        vertical-align: top;\n",
       "    }\n",
       "\n",
       "    .dataframe thead th {\n",
       "        text-align: right;\n",
       "    }\n",
       "</style>\n",
       "<table border=\"1\" class=\"dataframe\">\n",
       "  <thead>\n",
       "    <tr style=\"text-align: right;\">\n",
       "      <th></th>\n",
       "      <th>Recency</th>\n",
       "      <th>Frequency</th>\n",
       "      <th>Monetary</th>\n",
       "      <th>NumBuyers</th>\n",
       "      <th>ClusterName</th>\n",
       "    </tr>\n",
       "  </thead>\n",
       "  <tbody>\n",
       "    <tr>\n",
       "      <th>0</th>\n",
       "      <td>1.331899</td>\n",
       "      <td>1.459742</td>\n",
       "      <td>95.222372</td>\n",
       "      <td>1627</td>\n",
       "      <td>Frequent Buyers</td>\n",
       "    </tr>\n",
       "    <tr>\n",
       "      <th>1</th>\n",
       "      <td>1.007502</td>\n",
       "      <td>5.663416</td>\n",
       "      <td>13.065094</td>\n",
       "      <td>3999</td>\n",
       "      <td>Casual Buyers</td>\n",
       "    </tr>\n",
       "    <tr>\n",
       "      <th>2</th>\n",
       "      <td>2.000000</td>\n",
       "      <td>1.312500</td>\n",
       "      <td>11.564403</td>\n",
       "      <td>16672</td>\n",
       "      <td>Churned Buyers</td>\n",
       "    </tr>\n",
       "    <tr>\n",
       "      <th>3</th>\n",
       "      <td>0.999834</td>\n",
       "      <td>1.503345</td>\n",
       "      <td>11.746058</td>\n",
       "      <td>30192</td>\n",
       "      <td>Top Buyers</td>\n",
       "    </tr>\n",
       "  </tbody>\n",
       "</table>\n",
       "</div>"
      ],
      "text/plain": [
       "    Recency  Frequency   Monetary  NumBuyers      ClusterName\n",
       "0  1.331899   1.459742  95.222372       1627  Frequent Buyers\n",
       "1  1.007502   5.663416  13.065094       3999    Casual Buyers\n",
       "2  2.000000   1.312500  11.564403      16672   Churned Buyers\n",
       "3  0.999834   1.503345  11.746058      30192       Top Buyers"
      ]
     },
     "execution_count": 21,
     "metadata": {},
     "output_type": "execute_result"
    }
   ],
   "source": [
    "# Renomeando os clusters de acordo com a análise dos dados obtidos\n",
    "centroid_df.pop('cluster')\n",
    "cluster_names = ['Frequent Buyers','Casual Buyers','Churned Buyers','Top Buyers']\n",
    "centroid_df['ClusterName'] = cluster_names\n",
    "centroid_df"
   ]
  },
  {
   "cell_type": "markdown",
   "metadata": {
    "id": "8r6TmzwjUR6I"
   },
   "source": [
    "# 2.0 - Conclusão\n",
    "\n",
    "Com os dados coletados, conseguimos realizar a segmentação de consumidores para possíveis campanhas de marketing melhores direcionadas. Por exemplo, criar uma promoção direcionada ao público de **Top Buyers** com um conjunto de produtos de alto valor final, mas com algum tipo de desconto ou criar outras promoções exclusivas para estes clientes que gastariam bastante. \n",
    "Para **Clientes Frequentes**, seria possível alguma ativação para cada X compras realizadas no site (clube de fidelidade). Para os **Clientes Casuais**, seria possível indicar promoções como o decréscimo de preço a partir da compra de valor tal, frete grátis  ou brindes para poder cativar o cliente e torna-lo um cliente frequente. \n",
    "Um ponto interessante é observar que o segundo maior grupo de clientes é o grupo de clientes que não fazem compra há mais de 2 meses. É certo que a amostra temporal de menos de 2 meses é pequeno, porém pode ser um indicativo que o site/negócio não está conseguindo ser atraente suficiente para manter os clientes realizarem suas compras, mesmo sendo de pequeno valor. Talvez algum teste A/B em formato de desconto para este público ou analisar o formato de mailing para estes clientes 'evoluirem' de cluster para compradores frequentes, verificar em quais plataformas o budget do marketing está sendo alocado e se este investimento está realmente retornando/convertendo o investimento em manter outra trazer novos clientes. \n",
    "São muitas as possibilidades de ações de marketing possíveis, sendo essas atividades sempre alinhadas com o objetivo da empresa. \n",
    "\n"
   ]
  }
 ],
 "metadata": {
  "colab": {
   "collapsed_sections": [],
   "name": "RFM_final.ipynb",
   "provenance": []
  },
  "kernelspec": {
   "display_name": "Python 3",
   "language": "python",
   "name": "python3"
  },
  "language_info": {
   "codemirror_mode": {
    "name": "ipython",
    "version": 3
   },
   "file_extension": ".py",
   "mimetype": "text/x-python",
   "name": "python",
   "nbconvert_exporter": "python",
   "pygments_lexer": "ipython3",
   "version": "3.8.5"
  },
  "varInspector": {
   "cols": {
    "lenName": 16,
    "lenType": 16,
    "lenVar": 40
   },
   "kernels_config": {
    "python": {
     "delete_cmd_postfix": "",
     "delete_cmd_prefix": "del ",
     "library": "var_list.py",
     "varRefreshCmd": "print(var_dic_list())"
    },
    "r": {
     "delete_cmd_postfix": ") ",
     "delete_cmd_prefix": "rm(",
     "library": "var_list.r",
     "varRefreshCmd": "cat(var_dic_list()) "
    }
   },
   "types_to_exclude": [
    "module",
    "function",
    "builtin_function_or_method",
    "instance",
    "_Feature"
   ],
   "window_display": false
  }
 },
 "nbformat": 4,
 "nbformat_minor": 1
}
